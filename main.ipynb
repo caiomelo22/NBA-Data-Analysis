{
 "cells": [
  {
   "cell_type": "code",
   "execution_count": 105,
   "metadata": {},
   "outputs": [],
   "source": [
    "from nba_api.stats.endpoints import leaguegamelog\n",
    "from nba_api.stats.static import teams \n",
    "import matplotlib.pyplot as plt\n",
    "import numpy as np\n",
    "import pandas as pd"
   ]
  },
  {
   "cell_type": "code",
   "execution_count": 45,
   "metadata": {},
   "outputs": [],
   "source": [
    "teams_info = teams.get_teams()"
   ]
  },
  {
   "cell_type": "code",
   "execution_count": 46,
   "metadata": {},
   "outputs": [
    {
     "name": "stdout",
     "output_type": "stream",
     "text": [
      "['ATL', 'BOS', 'CLE', 'NOP', 'CHI', 'DAL', 'DEN', 'GSW', 'HOU', 'LAC', 'LAL', 'MIA', 'MIL', 'MIN', 'BKN', 'NYK', 'ORL', 'IND', 'PHI', 'PHX', 'POR', 'SAC', 'SAS', 'OKC', 'TOR', 'UTA', 'MEM', 'WAS', 'DET', 'CHA']\n"
     ]
    }
   ],
   "source": [
    "abbreviations = [x['abbreviation'] for x in teams_info]\n",
    "print(abbreviations)"
   ]
  },
  {
   "cell_type": "code",
   "execution_count": 47,
   "metadata": {},
   "outputs": [
    {
     "data": {
      "text/html": [
       "<div>\n",
       "<style scoped>\n",
       "    .dataframe tbody tr th:only-of-type {\n",
       "        vertical-align: middle;\n",
       "    }\n",
       "\n",
       "    .dataframe tbody tr th {\n",
       "        vertical-align: top;\n",
       "    }\n",
       "\n",
       "    .dataframe thead th {\n",
       "        text-align: right;\n",
       "    }\n",
       "</style>\n",
       "<table border=\"1\" class=\"dataframe\">\n",
       "  <thead>\n",
       "    <tr style=\"text-align: right;\">\n",
       "      <th></th>\n",
       "      <th>SEASON_ID</th>\n",
       "      <th>TEAM_ID</th>\n",
       "      <th>TEAM_ABBREVIATION</th>\n",
       "      <th>TEAM_NAME</th>\n",
       "      <th>GAME_ID</th>\n",
       "      <th>GAME_DATE</th>\n",
       "      <th>MATCHUP</th>\n",
       "      <th>WL</th>\n",
       "      <th>MIN</th>\n",
       "      <th>FGM</th>\n",
       "      <th>...</th>\n",
       "      <th>DREB</th>\n",
       "      <th>REB</th>\n",
       "      <th>AST</th>\n",
       "      <th>STL</th>\n",
       "      <th>BLK</th>\n",
       "      <th>TOV</th>\n",
       "      <th>PF</th>\n",
       "      <th>PTS</th>\n",
       "      <th>PLUS_MINUS</th>\n",
       "      <th>VIDEO_AVAILABLE</th>\n",
       "    </tr>\n",
       "  </thead>\n",
       "  <tbody>\n",
       "    <tr>\n",
       "      <th>0</th>\n",
       "      <td>22021</td>\n",
       "      <td>1610612747</td>\n",
       "      <td>LAL</td>\n",
       "      <td>Los Angeles Lakers</td>\n",
       "      <td>0022100002</td>\n",
       "      <td>2021-10-19</td>\n",
       "      <td>LAL vs. GSW</td>\n",
       "      <td>L</td>\n",
       "      <td>240</td>\n",
       "      <td>45</td>\n",
       "      <td>...</td>\n",
       "      <td>40</td>\n",
       "      <td>45</td>\n",
       "      <td>21</td>\n",
       "      <td>7</td>\n",
       "      <td>4</td>\n",
       "      <td>18</td>\n",
       "      <td>25</td>\n",
       "      <td>114</td>\n",
       "      <td>-7</td>\n",
       "      <td>1</td>\n",
       "    </tr>\n",
       "    <tr>\n",
       "      <th>1</th>\n",
       "      <td>22021</td>\n",
       "      <td>1610612744</td>\n",
       "      <td>GSW</td>\n",
       "      <td>Golden State Warriors</td>\n",
       "      <td>0022100002</td>\n",
       "      <td>2021-10-19</td>\n",
       "      <td>GSW @ LAL</td>\n",
       "      <td>W</td>\n",
       "      <td>240</td>\n",
       "      <td>41</td>\n",
       "      <td>...</td>\n",
       "      <td>41</td>\n",
       "      <td>50</td>\n",
       "      <td>30</td>\n",
       "      <td>9</td>\n",
       "      <td>2</td>\n",
       "      <td>17</td>\n",
       "      <td>18</td>\n",
       "      <td>121</td>\n",
       "      <td>7</td>\n",
       "      <td>1</td>\n",
       "    </tr>\n",
       "    <tr>\n",
       "      <th>2</th>\n",
       "      <td>22021</td>\n",
       "      <td>1610612751</td>\n",
       "      <td>BKN</td>\n",
       "      <td>Brooklyn Nets</td>\n",
       "      <td>0022100001</td>\n",
       "      <td>2021-10-19</td>\n",
       "      <td>BKN @ MIL</td>\n",
       "      <td>L</td>\n",
       "      <td>240</td>\n",
       "      <td>37</td>\n",
       "      <td>...</td>\n",
       "      <td>39</td>\n",
       "      <td>44</td>\n",
       "      <td>19</td>\n",
       "      <td>3</td>\n",
       "      <td>9</td>\n",
       "      <td>13</td>\n",
       "      <td>17</td>\n",
       "      <td>104</td>\n",
       "      <td>-23</td>\n",
       "      <td>1</td>\n",
       "    </tr>\n",
       "    <tr>\n",
       "      <th>3</th>\n",
       "      <td>22021</td>\n",
       "      <td>1610612749</td>\n",
       "      <td>MIL</td>\n",
       "      <td>Milwaukee Bucks</td>\n",
       "      <td>0022100001</td>\n",
       "      <td>2021-10-19</td>\n",
       "      <td>MIL vs. BKN</td>\n",
       "      <td>W</td>\n",
       "      <td>240</td>\n",
       "      <td>48</td>\n",
       "      <td>...</td>\n",
       "      <td>41</td>\n",
       "      <td>54</td>\n",
       "      <td>25</td>\n",
       "      <td>8</td>\n",
       "      <td>9</td>\n",
       "      <td>8</td>\n",
       "      <td>19</td>\n",
       "      <td>127</td>\n",
       "      <td>23</td>\n",
       "      <td>1</td>\n",
       "    </tr>\n",
       "    <tr>\n",
       "      <th>4</th>\n",
       "      <td>22021</td>\n",
       "      <td>1610612754</td>\n",
       "      <td>IND</td>\n",
       "      <td>Indiana Pacers</td>\n",
       "      <td>0022100003</td>\n",
       "      <td>2021-10-20</td>\n",
       "      <td>IND @ CHA</td>\n",
       "      <td>L</td>\n",
       "      <td>240</td>\n",
       "      <td>42</td>\n",
       "      <td>...</td>\n",
       "      <td>43</td>\n",
       "      <td>51</td>\n",
       "      <td>29</td>\n",
       "      <td>2</td>\n",
       "      <td>10</td>\n",
       "      <td>17</td>\n",
       "      <td>24</td>\n",
       "      <td>122</td>\n",
       "      <td>-1</td>\n",
       "      <td>1</td>\n",
       "    </tr>\n",
       "  </tbody>\n",
       "</table>\n",
       "<p>5 rows × 29 columns</p>\n",
       "</div>"
      ],
      "text/plain": [
       "  SEASON_ID     TEAM_ID TEAM_ABBREVIATION              TEAM_NAME     GAME_ID  \\\n",
       "0     22021  1610612747               LAL     Los Angeles Lakers  0022100002   \n",
       "1     22021  1610612744               GSW  Golden State Warriors  0022100002   \n",
       "2     22021  1610612751               BKN          Brooklyn Nets  0022100001   \n",
       "3     22021  1610612749               MIL        Milwaukee Bucks  0022100001   \n",
       "4     22021  1610612754               IND         Indiana Pacers  0022100003   \n",
       "\n",
       "    GAME_DATE      MATCHUP WL  MIN  FGM  ...  DREB  REB  AST  STL  BLK  TOV  \\\n",
       "0  2021-10-19  LAL vs. GSW  L  240   45  ...    40   45   21    7    4   18   \n",
       "1  2021-10-19    GSW @ LAL  W  240   41  ...    41   50   30    9    2   17   \n",
       "2  2021-10-19    BKN @ MIL  L  240   37  ...    39   44   19    3    9   13   \n",
       "3  2021-10-19  MIL vs. BKN  W  240   48  ...    41   54   25    8    9    8   \n",
       "4  2021-10-20    IND @ CHA  L  240   42  ...    43   51   29    2   10   17   \n",
       "\n",
       "   PF  PTS  PLUS_MINUS  VIDEO_AVAILABLE  \n",
       "0  25  114          -7                1  \n",
       "1  18  121           7                1  \n",
       "2  17  104         -23                1  \n",
       "3  19  127          23                1  \n",
       "4  24  122          -1                1  \n",
       "\n",
       "[5 rows x 29 columns]"
      ]
     },
     "execution_count": 47,
     "metadata": {},
     "output_type": "execute_result"
    }
   ],
   "source": [
    "league_game_log = leaguegamelog.LeagueGameLog(season = '2021', player_or_team_abbreviation = 'T').get_data_frames()[0]\n",
    "league_game_log.head()"
   ]
  },
  {
   "cell_type": "code",
   "execution_count": 48,
   "metadata": {},
   "outputs": [
    {
     "name": "stdout",
     "output_type": "stream",
     "text": [
      "['MIN', 'FGM', 'FGA', 'FG_PCT', 'FG3M', 'FG3A', 'FG3_PCT', 'FTM', 'FTA', 'FT_PCT', 'OREB', 'DREB', 'REB', 'AST', 'STL', 'BLK', 'TOV', 'PF', 'PTS', 'PLUS_MINUS']\n"
     ]
    }
   ],
   "source": [
    "columns = list(league_game_log.columns)[8:-1]\n",
    "print(columns)"
   ]
  },
  {
   "cell_type": "code",
   "execution_count": 49,
   "metadata": {},
   "outputs": [
    {
     "name": "stdout",
     "output_type": "stream",
     "text": [
      "Type the abbreviation of the home team: PHI\n",
      "Type the abbreviation of the away team: LAL\n"
     ]
    }
   ],
   "source": [
    "team_a = input(\"Type the abbreviation of the home team: \")\n",
    "while team_a not in abbreviations:\n",
    "    print(\"Invalid team.\")\n",
    "    team_a = input(\"Type the abbreviation of the home team: \")\n",
    "    \n",
    "team_b = input(\"Type the abbreviation of the away team: \")\n",
    "while team_b not in abbreviations:\n",
    "    print(\"Invalid team.\")\n",
    "    team_b = input(\"Type the abbreviation of the away team: \")"
   ]
  },
  {
   "cell_type": "code",
   "execution_count": 50,
   "metadata": {},
   "outputs": [],
   "source": [
    "team_a_games = league_game_log[league_game_log['TEAM_ABBREVIATION'] == team_a]\n",
    "team_b_games = league_game_log[league_game_log['TEAM_ABBREVIATION'] == team_b]\n",
    "\n",
    "team_a_opp_games = league_game_log[(league_game_log['MATCHUP'].str.contains(team_a)) & (league_game_log['TEAM_ABBREVIATION'] != team_a)]\n",
    "team_b_opp_games = league_game_log[(league_game_log['MATCHUP'].str.contains(team_b)) & (league_game_log['TEAM_ABBREVIATION'] != team_b)]"
   ]
  },
  {
   "cell_type": "code",
   "execution_count": 130,
   "metadata": {},
   "outputs": [],
   "source": [
    "def plot_stats_chart(team, games, opp_games, stat):\n",
    "    dates = np.array((games.iloc[-20:,:])['GAME_DATE'])\n",
    "    made = np.array((games.iloc[-20:,:])[stat])\n",
    "    conceded = np.array((opp_games.iloc[-20:,:])[stat])\n",
    "    plt.plot(dates, made, c='blue', label ='Made')\n",
    "    plt.plot(dates, conceded, c='red', label ='Conceded')\n",
    "    \n",
    "    plt.title(team)\n",
    "    plt.xlabel('Date')\n",
    "    plt.ylabel(stat)\n",
    "    \n",
    "    for xc in dates:\n",
    "        plt.axvline(x=xc, color='black', linewidth=0.5)\n",
    "        \n",
    "    plt.xticks(fontsize=10, rotation=90)\n",
    "    \n",
    "    plt.legend()\n",
    "    \n",
    "    plt.savefig('{}_{}.jpg'.format(team, stat), dpi=300)\n",
    "    \n",
    "    plt.show()"
   ]
  },
  {
   "cell_type": "code",
   "execution_count": 76,
   "metadata": {},
   "outputs": [
    {
     "name": "stdout",
     "output_type": "stream",
     "text": [
      "Type the stat you want to visualize: pts\n"
     ]
    }
   ],
   "source": [
    "stat = input(\"Type the stat you want to visualize: \").upper()\n",
    "while stat not in columns:\n",
    "    print(\"Invalid stat.\")\n",
    "    stat = input(\"Type the stat you want to visualize: \")"
   ]
  },
  {
   "cell_type": "code",
   "execution_count": 131,
   "metadata": {},
   "outputs": [
    {
     "data": {
      "image/png": "[encoded data removed]",
      "text/plain": [
       "<Figure size 432x288 with 1 Axes>"
      ]
     },
     "metadata": {
      "needs_background": "light"
     },
     "output_type": "display_data"
    },
    {
     "data": {
      "image/png": "[encoded data removed]",
      "text/plain": [
       "<Figure size 432x288 with 1 Axes>"
      ]
     },
     "metadata": {
      "needs_background": "light"
     },
     "output_type": "display_data"
    }
   ],
   "source": [
    "plot_stats_chart(team_a, team_a_games, team_a_opp_games, stat)\n",
    "plot_stats_chart(team_b, team_b_games, team_b_opp_games, stat)"
   ]
  }
 ],
 "metadata": {
  "kernelspec": {
   "display_name": "Python 3",
   "language": "python",
   "name": "python3"
  },
  "language_info": {
   "codemirror_mode": {
    "name": "ipython",
    "version": 3
   },
   "file_extension": ".py",
   "mimetype": "text/x-python",
   "name": "python",
   "nbconvert_exporter": "python",
   "pygments_lexer": "ipython3",
   "version": "3.8.5"
  }
 },
 "nbformat": 4,
 "nbformat_minor": 4
}
